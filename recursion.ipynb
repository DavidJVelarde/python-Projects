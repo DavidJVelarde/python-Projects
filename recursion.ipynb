{
 "cells": [
  {
   "cell_type": "markdown",
   "id": "76736328-69e2-45b9-80b5-cd6fca29db89",
   "metadata": {},
   "source": [
    "#1"
   ]
  },
  {
   "cell_type": "code",
   "execution_count": 1,
   "id": "baab2041-3123-4417-b65d-535495a82214",
   "metadata": {},
   "outputs": [],
   "source": [
    "#Write a recursive function that returns a laughter string (ha, he, ho) n times. For example, when\n",
    "#n = 5, laughter sound is \"ha\""
   ]
  },
  {
   "cell_type": "code",
   "execution_count": 36,
   "id": "c48fa0ee-c7c0-4c29-bc54-20904db3f04b",
   "metadata": {},
   "outputs": [
    {
     "name": "stdout",
     "output_type": "stream",
     "text": [
      "\n"
     ]
    },
    {
     "data": {
      "text/plain": [
       "'hahahahahahaha'"
      ]
     },
     "execution_count": 36,
     "metadata": {},
     "output_type": "execute_result"
    }
   ],
   "source": [
    "#your program should return a string like 'hahahahaha'\n",
    "\n",
    "def returnLaugh(n):\n",
    "    '''\n",
    "    $returnLaugh$ does returns laugh\n",
    "    \n",
    "    PARAMETERS:\n",
    "    @param {int} n = int that determined how many laughs will occur.\n",
    "    \n",
    "    RETURN:\n",
    "    @return {string} (string_ha) - it returns the string that has \"ha\" \n",
    "    each time, and each call of the function subtracting 1 from n, until n equals zero, then it returns \n",
    "    string_ha\n",
    "    '''\n",
    "    #base case\n",
    "    string_ha = \"\"\n",
    "    if n == 0: #no more laughs remain, exit recursion\n",
    "        return string_ha\n",
    "    \n",
    "    else:\n",
    "        #recursive case\n",
    "        #subtracts 1 from n(number of laughs), and returns 1 fewer laugh after returning one \"ha\"\n",
    "        string_ha += \"ha\"\n",
    "        return string_ha + returnLaugh(n-1)\n",
    "returnLaugh(7)\n"
   ]
  },
  {
   "cell_type": "markdown",
   "id": "88b1430a-a130-48a5-a7c9-15a860c24d36",
   "metadata": {},
   "source": [
    "#2"
   ]
  },
  {
   "cell_type": "code",
   "execution_count": 10,
   "id": "a927b56e-e719-4a6a-9ddc-1f9752cfe9d4",
   "metadata": {},
   "outputs": [],
   "source": [
    "#Write a recursive function that takes a string and returns everything minus the last letter.\n",
    "#For example, for an input string: \"abcde\"\n",
    "#your program should return \"abcd\"."
   ]
  },
  {
   "cell_type": "code",
   "execution_count": 36,
   "id": "9222b17c-3d50-44c7-9287-39d52367b927",
   "metadata": {},
   "outputs": [
    {
     "data": {
      "text/plain": [
       "'hell'"
      ]
     },
     "execution_count": 36,
     "metadata": {},
     "output_type": "execute_result"
    }
   ],
   "source": [
    "\n",
    "#Source: Slide 41\n",
    "\n",
    "def minusLast(string_change):\n",
    "    '''\n",
    "    $minusLast$ does: removes last letter\n",
    "    \n",
    "    PARAMETERS:\n",
    "    @param {string} string_change = input string that has last letter removed from it.\n",
    "\n",
    "    \n",
    "    RETURN:\n",
    "    @return {string} (string_change) - \n",
    "    the function returns the string minus the last character, in the \n",
    "    recursion case, it returns the first letter, then returns everything except for the first letter back\n",
    "    into the function call. Once the length of the string gets to 1(base case), (last letter) it returns an empty string\n",
    "    so it removes the last letter.\n",
    "    '''\n",
    "    #base case, it removes the last letter from the string\n",
    "    if len(string_change) == 1:\n",
    "        return ''\n",
    "    else:\n",
    "        #recurse case, return first letter, and return all elements of string_change, except for 1st element.\n",
    "        return  string_change[0] + minusLast(string_change[1:])\n",
    "\n",
    "minusLast(\"hello\")\n"
   ]
  },
  {
   "cell_type": "markdown",
   "id": "1bb70828-d465-4d52-8fad-9118f4248a17",
   "metadata": {},
   "source": [
    "#3"
   ]
  },
  {
   "cell_type": "code",
   "execution_count": null,
   "id": "c5b34966-a204-4e38-897c-4a73eaf2543a",
   "metadata": {},
   "outputs": [
    {
     "data": {
      "text/plain": [
       "'daid'"
      ]
     },
     "execution_count": 7,
     "metadata": {},
     "output_type": "execute_result"
    }
   ],
   "source": [
    "#Write a recursive function that cuts out the first occurrence of some letter in a \n",
    "#string. For example, for an input string\n",
    "#\"abcdef\", cut out \"d\"\n",
    "\n",
    "#for i in s\n",
    "    # if i == char\n",
    "    #str_change.remove(char)\n",
    "\n",
    "def removeLetter(str_change, char):\n",
    "    '''\n",
    "    $removeLetter$ does removes a letter from string\n",
    "    \n",
    "    PARAMETERS:\n",
    "    @param {string} str_change = string that is changed\n",
    "    @param {char} char = character that is removed\n",
    "\n",
    "    \n",
    "    RETURN:\n",
    "    @return {string} (str_change) - \n",
    "    the recursive case returns the first letter in the string, and calls the function, and returns\n",
    "    everything in the string except for the first letter. It also returns the character, and at the base case\n",
    "    it, the function checks if the first letter equals the character the user wants to remove. If it does, it \n",
    "    the letters that came before the base case, and all the letters after from the recursive case.\n",
    "    '''\n",
    "    # base case: once the current letter equals the chosen char, return everything after that character\n",
    "    if str_change[0] == char:\n",
    "        return str_change[1:]    \n",
    "    else:\n",
    "        #returns the first element, and recurses over everything except for the first letter in each recursion.\n",
    "        return str_change[0] + removeLetter(str_change[1:], char)\n",
    "ch = 'v'\n",
    "removeLetter(\"david\", ch)"
   ]
  },
  {
   "cell_type": "markdown",
   "id": "646abb94-a570-41db-b912-1a21685bb59c",
   "metadata": {},
   "source": [
    "#4"
   ]
  },
  {
   "cell_type": "code",
   "execution_count": 23,
   "id": "d1dff832-bd65-431e-ae83-6b2ff3683891",
   "metadata": {},
   "outputs": [
    {
     "data": {
      "text/plain": [
       "[1, 2, 3, 4, 5]"
      ]
     },
     "execution_count": 23,
     "metadata": {},
     "output_type": "execute_result"
    }
   ],
   "source": [
    "#Write a recursive function that reverses a list. For example, the list\n",
    "#[1,2,3,4,5]\n",
    "#should be returned as [5,4,3,2,1].\n",
    "\n",
    "#Source: Slide 41\n",
    "#Source: Lab #4\n",
    "\n",
    "def reverseList(my_List):\n",
    "    '''\n",
    "    $my_List$ does reverses the input list\n",
    "    \n",
    "    PARAMETERS:\n",
    "    @param {list} my_List = list that is reversed by function\n",
    "\n",
    "    \n",
    "    RETURN:\n",
    "    @return {list} (my_List) - \n",
    "    the recursive case returns the last element in the string, first then returns the rest of the \n",
    "    list before the last element. then once it gets to the from of the list, it enter the base case because\n",
    "    length of list equals 1, and it returns the final component in the list, last.\n",
    "    '''\n",
    "    last_element = len(my_List) - 1\n",
    "    #base case: return final element in list (originally was the first)\n",
    "    if len(my_List) == 1:\n",
    "        return my_List\n",
    "    else:\n",
    "        return [my_List[last_element]] + reverseList(my_List[:last_element]) #all before last element\n",
    "        \n",
    "num_List = [5,4,3,2,1]\n",
    "reverseList(num_List)"
   ]
  },
  {
   "cell_type": "markdown",
   "id": "346d1158-207d-4fe9-b234-747e35b9f31a",
   "metadata": {},
   "source": [
    "#5"
   ]
  },
  {
   "cell_type": "code",
   "execution_count": 35,
   "id": "ba265408-098e-4807-bf18-bd52398d0947",
   "metadata": {},
   "outputs": [
    {
     "data": {
      "text/plain": [
       "2"
      ]
     },
     "execution_count": 35,
     "metadata": {},
     "output_type": "execute_result"
    }
   ],
   "source": [
    "#Write a recursive function which takes two positive non-zero numbers, n and m, \n",
    "#and returns the remainder when n is divided by m. For example,\n",
    "#n = 10, m = 3\n",
    "\n",
    "def findRemainder(n, m):\n",
    "    '''\n",
    "    $findRemainder$ calculates the remainer \n",
    "    \n",
    "    PARAMETERS:\n",
    "    @param {int} n = the first int that is divided\n",
    "    @param {int} m = second int that divides into the first\n",
    "    \n",
    "    RETURN:\n",
    "    @return {int} (n) - \n",
    "    the recursive case returns n and m, but each time m is subtracted from n, m is subtracted \n",
    "    from m until n is less than m, and when that is the case, you can return n as the base case because that\n",
    "    is the remainder.\n",
    "    '''\n",
    "    if n < m:\n",
    "        return n #n equals the remainder\n",
    "    else:\n",
    "        return findRemainder(n - m, m) #return n-m until n is less than m\n",
    "n=14\n",
    "m=3\n",
    "findRemainder(n, m)\n",
    "    \n",
    "    "
   ]
  },
  {
   "cell_type": "code",
   "execution_count": null,
   "id": "92e28ebc-866b-419b-98ee-5f4b289e99f9",
   "metadata": {},
   "outputs": [],
   "source": []
  }
 ],
 "metadata": {
  "kernelspec": {
   "display_name": "Python 3 (ipykernel)",
   "language": "python",
   "name": "python3"
  },
  "language_info": {
   "codemirror_mode": {
    "name": "ipython",
    "version": 3
   },
   "file_extension": ".py",
   "mimetype": "text/x-python",
   "name": "python",
   "nbconvert_exporter": "python",
   "pygments_lexer": "ipython3",
   "version": "3.10.8"
  }
 },
 "nbformat": 4,
 "nbformat_minor": 5
}
