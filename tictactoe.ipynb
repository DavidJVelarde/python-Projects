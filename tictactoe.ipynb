{
 "cells": [
  {
   "cell_type": "code",
   "execution_count": 13,
   "id": "b2fe89d3-7844-4de9-8902-5ad2268a02f9",
   "metadata": {},
   "outputs": [
    {
     "ename": "SyntaxError",
     "evalue": "incomplete input (517519592.py, line 66)",
     "output_type": "error",
     "traceback": [
      "\u001b[0;36m  Cell \u001b[0;32mIn[13], line 66\u001b[0;36m\u001b[0m\n\u001b[0;31m    \u001b[0m\n\u001b[0m    ^\u001b[0m\n\u001b[0;31mSyntaxError\u001b[0m\u001b[0;31m:\u001b[0m incomplete input\n"
     ]
    }
   ],
   "source": [
    "#slide 34 lecture 12\n",
    "count = 0\n",
    "STOP = 'END'\n",
    "user_input = ' '\n",
    "'''\n",
    "board = [[\".\", \".\", \".\"],\n",
    "         [\".\", \".\", \".\"],\n",
    "         [\".\", \".\", \".\"]]\n",
    "'''\n",
    "def createBoard():\n",
    "    height = 3\n",
    "    width = 3\n",
    "    gameBoard = []\n",
    "    while len(gameBoard) < height:\n",
    "        boardRow = []\n",
    "        while len(boardRow) < width:\n",
    "            boardRow.append(\".\")\n",
    "            gameBoard.append(boardRow)\n",
    "    return gameBoard\n",
    "\n",
    "def printBoard(CreateBoardHolder):\n",
    "    print_board = []\n",
    "    row = 0\n",
    "    while row < len(CreateBoardHolder):\n",
    "        col = 0\n",
    "        while col < len(CreateBoardHolder[row]):\n",
    "            print(CreateBoardHolder[row][col], end = \" \")\n",
    "            col += 1\n",
    "        print () #prints new line at end of each row\n",
    "        row += 1\n",
    "    return print_board\n",
    "\n",
    "'''\n",
    "def placePiece(new_board, row, col, piece):\n",
    "    #try to append the piece to the row and col\n",
    "    \n",
    "    new_board.append\n",
    "    \n",
    "    new_actual_board = printBoard(CreateBoardHolder)\n",
    "    return new_actual_board\n",
    "'''\n",
    "\n",
    "while(count < 9 and user_input != STOP):\n",
    "\n",
    "    msg = \"Enter \\\"row,col,piece\\\" or \\\"END\\\":\" \n",
    "    \n",
    "    if user_input != STOP:\n",
    "        #split changes string to list\n",
    "        \n",
    "        user_input = input(msg) # do i need to convert this input to a list format to index it the way I want?\n",
    "        new_board_input = user_input ##ask about \n",
    "        #access index of input position 0 for row\n",
    "        row = new_board[0]\n",
    "        #access index of input position 1 for col\n",
    "        col = new_board [2]\n",
    "        #access index of input position 2 for piece \n",
    "        piece = new_board[4]\n",
    "    \n",
    "    count += 1\n",
    "    \n",
    "    createBoardHolder = createBoard() #creates the 3x3 board (not needed maybe?)\n",
    "    printBoard(createBoardHolder)\n",
    "    placePiece(new_board, row, col, peicce\n",
    "    #placePiece(new_board, row, column, piece )\n",
    "    #printBoard(new_actual_board)\n",
    "    \n",
    "   \n"
   ]
  },
  {
   "cell_type": "code",
   "execution_count": 60,
   "id": "32609cda-6368-4831-8395-4247af5575ae",
   "metadata": {},
   "outputs": [],
   "source": [
    "def placePiece(new_board, row, col, piece):\n",
    "    \n",
    "    #try to append the piece to the row and col\n",
    "    new_board[row][col] = piece\n",
    "    printBoard(new_board)\n",
    "    \n",
    "    #new_actual_board = printBoard(CreateBoardHolder)"
   ]
  },
  {
   "cell_type": "code",
   "execution_count": 61,
   "id": "383e5180-18ad-48cf-9d74-d33dfa135e2e",
   "metadata": {},
   "outputs": [],
   "source": [
    "def printBoard(CreateBoardHolder):\n",
    "    print_board = []\n",
    "    row = 0\n",
    "    while row < len(CreateBoardHolder):\n",
    "        col = 0\n",
    "        while col < len(CreateBoardHolder[row]):\n",
    "            print(CreateBoardHolder[row][col], end = \" \")\n",
    "            col += 1\n",
    "        print () #prints new line at end of each row\n",
    "        row += 1\n",
    "   "
   ]
  },
  {
   "cell_type": "code",
   "execution_count": 62,
   "id": "8de67561-4388-4e87-a350-dcfb8a336e12",
   "metadata": {},
   "outputs": [],
   "source": [
    "def createBoard():\n",
    "    height = 3\n",
    "    width = 3\n",
    "    gameBoard = []\n",
    "    while len(gameBoard) < height:\n",
    "        boardRow = []\n",
    "        while len(boardRow) < width:\n",
    "            boardRow.append(\".\")\n",
    "        gameBoard.append(boardRow)\n",
    "    return gameBoard\n"
   ]
  },
  {
   "cell_type": "code",
   "execution_count": null,
   "id": "9bad2205-c48f-4256-8031-66af0e0b29be",
   "metadata": {},
   "outputs": [
    {
     "name": "stdin",
     "output_type": "stream",
     "text": [
      "Enter \"row,col,piece\" or \"END\": 1,2,x\n"
     ]
    },
    {
     "name": "stdout",
     "output_type": "stream",
     "text": [
      ". . . \n",
      ". . x \n",
      ". . . \n"
     ]
    },
    {
     "name": "stdin",
     "output_type": "stream",
     "text": [
      "Enter \"row,col,piece\" or \"END\": 1,0,o\n"
     ]
    },
    {
     "name": "stdout",
     "output_type": "stream",
     "text": [
      ". . . \n",
      "o . x \n",
      ". . . \n"
     ]
    }
   ],
   "source": [
    "#MAIN\n",
    "count = 0\n",
    "STOP = 'END'\n",
    "user_input = ' '\n",
    "new_board = createBoard()\n",
    "\n",
    "\n",
    "while(count < 9 and user_input != STOP):\n",
    "    \n",
    "    msg = \"Enter \\\"row,col,piece\\\" or \\\"END\\\":\" \n",
    "    \n",
    "     #split changes string to list\n",
    "        \n",
    "    user_input = input(msg) # do i need to convert this input to a list format to index it the way I want?\n",
    "    new_board_input = user_input ##ask about \n",
    "    #access index of input position 0 for row\n",
    "    row = int(new_board_input[0])\n",
    "    \n",
    "    #access index of input position 1 for col\n",
    "    col = int(new_board_input [2])\n",
    "    #access index of input position 2 for piece \n",
    "    piece = new_board_input[4]\n",
    "    \n",
    "    \n",
    "    placePiece(new_board, row, col, piece)\n",
    "    \n",
    "    count += 1\n"
   ]
  },
  {
   "cell_type": "code",
   "execution_count": null,
   "id": "1eebaa92-1418-4395-b1bf-01b4336aab91",
   "metadata": {},
   "outputs": [],
   "source": []
  }
 ],
 "metadata": {
  "kernelspec": {
   "display_name": "Python 3 (ipykernel)",
   "language": "python",
   "name": "python3"
  },
  "language_info": {
   "codemirror_mode": {
    "name": "ipython",
    "version": 3
   },
   "file_extension": ".py",
   "mimetype": "text/x-python",
   "name": "python",
   "nbconvert_exporter": "python",
   "pygments_lexer": "ipython3",
   "version": "3.10.8"
  }
 },
 "nbformat": 4,
 "nbformat_minor": 5
}
