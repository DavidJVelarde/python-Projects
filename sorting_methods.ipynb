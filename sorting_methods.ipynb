{
 "cells": [
  {
   "cell_type": "raw",
   "id": "b3b37a71-9def-4359-9021-c5d8d1d31508",
   "metadata": {},
   "source": [
    "Part 1"
   ]
  },
  {
   "cell_type": "code",
   "execution_count": 17,
   "id": "e963be30-6e71-4002-9ac5-022b6151c6c8",
   "metadata": {},
   "outputs": [],
   "source": [
    "#bubblesort([5,4,2,3,1])\n",
    "#reverse order\n",
    "#lecture 28\n",
    "def BubbleSort(int_arr):\n",
    "    '''\n",
    "    $BubbleSort$ sorts the input array using bubble sort method, by looking at the first two, reordering them, \n",
    "    then the next two, reordering them, and so on.\n",
    "    \n",
    "    PARAMETERS:\n",
    "    @param {array} int_arr = int_arr, is just an array that contains either a strings or integers.\n",
    "    \n",
    "    RETURN:\n",
    "    @return {array} (int_arr) - int arr returns an array of strings or integers, from bubble sort technique. It \n",
    "    does this by comparing 2 elements at a time, over and over, until the list is in order.\n",
    "    '''\n",
    "\n",
    "    for i in range(len(int_arr)):\n",
    "        #reduce the array's unsorted array by one element every iteration\n",
    "        for j in range(0, len(int_arr) - i - 1):\n",
    "            if int_arr[j] > int_arr[j + 1]:\n",
    "                #swap elements to the correct order\n",
    "                temp = int_arr[j]\n",
    "                int_arr[j] = int_arr[j + 1]\n",
    "                int_arr[j + 1] = temp\n",
    "                \n",
    "    return int_arr\n",
    "#int_arr = [5,4,2,3,1]\n",
    "#num_list = BubbleSort(int_arr)\n",
    "#print(num_list)\n"
   ]
  },
  {
   "cell_type": "raw",
   "id": "193a8d7d-2595-4d96-88a6-58fcff4a596e",
   "metadata": {},
   "source": [
    "Selection Sort"
   ]
  },
  {
   "cell_type": "code",
   "execution_count": 18,
   "id": "b4ec8629-ff24-4673-8b7c-9cab01e6ee4c",
   "metadata": {},
   "outputs": [],
   "source": [
    "#source: Lecture 28\n",
    "def selection_sort(array):\n",
    "    '''\n",
    "    $selection_sort$ sorts the input array using the selection sort method which finds the smallest element in the\n",
    "    list and moves that to the end of the new list.  \n",
    "    \n",
    "    PARAMETERS:\n",
    "    @param {array} param1 = array that is either comprised of strings or ints that is processed.\n",
    "    \n",
    "    RETURN:\n",
    "    @return {array} ('new_list') - new_list is returned, iterates through list, finding the smallest element\n",
    "    and adding it to the list that is returned.\n",
    "\n",
    "    '''\n",
    "    new_list = []\n",
    "    while len(array) > 0: #loop through array, if it has elements\n",
    "        least = 0\n",
    "        for i in range(len(array)): #iterate through the entire array\n",
    "            for j in range(len(array)): \n",
    "                ##find index of smallest element\n",
    "                if array[i] < array[least]: \n",
    "                    least = i\n",
    "        new_list.append(array.pop(least)) #create new list\n",
    "    return new_list\n",
    "\n",
    "#int_arr = [5, 4, 2, 3, 1]\n",
    "#selection_sorted = selection_sort(int_arr)\n",
    "#print(selection_sorted)\n",
    "    "
   ]
  },
  {
   "cell_type": "code",
   "execution_count": null,
   "id": "9da792c5-64cf-419d-aa44-9c01f1364a89",
   "metadata": {},
   "outputs": [],
   "source": [
    "quickSort"
   ]
  },
  {
   "cell_type": "code",
   "execution_count": 27,
   "id": "984f2085-9158-46d0-9839-d0d57981ec25",
   "metadata": {},
   "outputs": [
    {
     "name": "stdout",
     "output_type": "stream",
     "text": [
      "[1, 2, 3, 4, 5]\n"
     ]
    }
   ],
   "source": [
    "\n",
    "def quickSort(array):\n",
    "    '''\n",
    "    $quickSort$ sorts the input array using the selection sort method which finds the smallest element in the\n",
    "    list and moves that to the end of the new list.  \n",
    "    \n",
    "    PARAMETERS:\n",
    "    @param {array} array = array that is either comprised of strings or ints that is processed recursively, until base case reached.\n",
    "    \n",
    "    RETURN:\n",
    "    @return {array} (recursive quickSort(left) + middle + quickSort(right)) Each time the function is run,\n",
    "    my pivot variable is just the middle index of the array, and it checks the elements of the list, and \n",
    "    appends all elements less than pivot to the left array, and all greater than to the right array. This \n",
    "    then appends the middle element (pivot) to middle array. Then recals function, and performs the task on\n",
    "    each array to the left, and right, until the result is reached.\n",
    "\n",
    "    '''\n",
    "    # base case,Theres nothign left to split between left and right, from recursive call.\n",
    "    if len(array) == 1:\n",
    "        return array\n",
    "    #recursive Case, splits array, sorts on pivot, each recursive call.\n",
    "    else:\n",
    "        left=[]\n",
    "        right=[]\n",
    "        middle=[]\n",
    "    \n",
    "        size = len(array)\n",
    "        pivot = (array[size//2]) # middle\n",
    "    \n",
    "        for i in range(len(array)):\n",
    "            if array[i] < pivot:\n",
    "                #assign array i to left\n",
    "                left.append(array[i])\n",
    "            elif array[i] > pivot:\n",
    "                #assign array i to right\n",
    "                right.append(array[i])\n",
    "            else:\n",
    "                middle.append(array[i])\n",
    "        # return recursive cases of left and right, middle is just returned right away.\n",
    "        return quickSort(left) + middle + quickSort(right)\n",
    "\n",
    "# int_arr = [5, 4, 2, 3, 1]\n",
    "# quick_sorted = quickSort(int_arr)\n",
    "# print(quick_sorted)"
   ]
  },
  {
   "cell_type": "code",
   "execution_count": 22,
   "id": "5b550765-8a76-4d20-b2cd-333a7a902ff8",
   "metadata": {},
   "outputs": [
    {
     "name": "stdout",
     "output_type": "stream",
     "text": [
      "Bubblesort:\n",
      "['Arya', 'Barristan', 'Bran', 'Cersei', 'Daenerys', 'Jaime', 'Jon Connington', 'Jon Snow', 'Kevan', 'Melisandre', 'Quentyn', 'Theon', 'Tyrion', 'Varamyr']\n",
      "[104, 109, 111, 223, 309, 480, 798, 963, 966, 1192, 1243, 1474, 1739, 1787, 1802, 2060, 2194, 2241, 2260, 2278, 2336, 2379, 2417, 2428, 2478, 2599, 2646, 2720, 2748, 2875, 2916, 2942, 3295, 3479, 3524, 3827, 3914, 4019, 4038, 4046, 4328, 4373, 5215, 5255, 5342, 5403, 5559, 5587, 5591, 5686, 5752, 5834, 5853, 6008, 6105, 6137, 6153, 6357, 6364, 6367, 6407, 6448, 6622, 6710, 6739, 6929, 7205, 7288, 7366, 7378, 7563, 7564, 7596, 7638, 7694, 7747, 7845, 8120, 8205, 8317, 8465, 8673, 8675, 8867, 8923, 8929, 9003, 9174, 9175, 9202, 9254, 9256, 9293, 9308, 9806, 9890, 9917, 9919, 9934, 9967]\n",
      "\n",
      "Selection Sort:\n",
      "['Arya', 'Barristan', 'Bran', 'Cersei', 'Daenerys', 'Jaime', 'Jon Connington', 'Jon Snow', 'Kevan', 'Melisandre', 'Quentyn', 'Theon', 'Tyrion', 'Varamyr']\n",
      "[55, 139, 169, 307, 356, 743, 841, 1051, 1348, 1408, 1415, 1475, 1488, 1697, 1731, 1904, 1975, 2143, 2180, 2297, 2335, 2407, 2502, 2705, 2738, 2870, 2992, 3054, 3173, 3306, 3377, 3380, 3382, 3416, 3748, 3839, 3967, 3996, 4369, 4379, 4434, 4485, 4582, 4612, 4648, 4698, 4739, 4848, 5136, 5389, 5390, 5503, 5565, 5695, 5824, 5948, 5949, 5963, 6063, 6122, 6148, 6339, 6451, 6495, 6654, 6728, 6753, 6809, 6835, 6908, 6976, 6977, 7029, 7256, 7366, 7463, 7742, 7801, 8021, 8144, 8178, 8225, 8360, 8579, 8631, 8776, 8789, 8858, 9131, 9247, 9304, 9375, 9450, 9512, 9537, 9759, 9832, 9835, 9861, 9969]\n",
      "\n",
      "Quick Sort:\n",
      "['Arya', 'Barristan', 'Bran', 'Cersei', 'Daenerys', 'Jaime', 'Jon Connington', 'Jon Snow', 'Kevan', 'Melisandre', 'Quentyn', 'Theon', 'Tyrion', 'Varamyr']\n",
      "[138, 186, 414, 435, 513, 603, 766, 772, 921, 1026, 1120, 1185, 1201, 1650, 1661, 1758, 2049, 2090, 2233, 2409, 2511, 2520, 2538, 2803, 2810, 2886, 3089, 3112, 3168, 3336, 3420, 3522, 3548, 3603, 3641, 3852, 3864, 3871, 3893, 4102, 4137, 4166, 4202, 4218, 4265, 4404, 4540, 4554, 4665, 4708, 4868, 5083, 5285, 5609, 5628, 5643, 5720, 5743, 5760, 6556, 6560, 6607, 6629, 6701, 6728, 6781, 6795, 6857, 6872, 6929, 7072, 7120, 7219, 7434, 7683, 7731, 7827, 7874, 8018, 8059, 8066, 8080, 8218, 8237, 8290, 8338, 8348, 8387, 8560, 8632, 8869, 8876, 9019, 9048, 9203, 9204, 9220, 9442, 9455, 9831]\n",
      "\n",
      "CPU times: user 17.7 ms, sys: 0 ns, total: 17.7 ms\n",
      "Wall time: 16.9 ms\n"
     ]
    }
   ],
   "source": [
    "%%time\n",
    "import random\n",
    "#Lecture 28, Slide 11\n",
    "names = ['Bran', 'Tyrion', 'Theon', 'Cersei', 'Jaime', 'Jon Snow', 'Jon Connington', 'Melisandre', 'Varamyr', 'Quentyn', 'Daenerys', 'Barristan', 'Arya', 'Kevan']\n",
    "names2 = ['Bran', 'Tyrion', 'Theon', 'Cersei', 'Jaime', 'Jon Snow', 'Jon Connington', 'Melisandre', 'Varamyr', 'Quentyn', 'Daenerys', 'Barristan', 'Arya', 'Kevan']\n",
    "names3 = ['Bran', 'Tyrion', 'Theon', 'Cersei', 'Jaime', 'Jon Snow', 'Jon Connington', 'Melisandre', 'Varamyr', 'Quentyn', 'Daenerys', 'Barristan', 'Arya', 'Kevan']\n",
    "l = random.sample(range(1,10000),100)\n",
    "l2 = random.sample(range(1,10000),100)\n",
    "l3 = random.sample(range(1,10000),100)\n",
    "sorted_list = BubbleSort(l)\n",
    "sorted_names = BubbleSort(names)\n",
    "#display results,\n",
    "sorted_list2 = selection_sort(l2)\n",
    "sorted_names2 = selection_sort(names2)\n",
    "\n",
    "sorted_list3 = quickSort(l3)\n",
    "sorted_names3 = quickSort(names3)\n",
    "print(\"Bubblesort:\")\n",
    "print(sorted_names)\n",
    "print(sorted_list)\n",
    "print ()\n",
    "print (\"Selection Sort:\")\n",
    "print(sorted_names2)\n",
    "print(sorted_list2)\n",
    "print()\n",
    "print (\"Quick Sort:\")\n",
    "print(sorted_names3)\n",
    "print(sorted_list3)\n",
    "print()"
   ]
  },
  {
   "cell_type": "code",
   "execution_count": null,
   "id": "1d09deb3-b788-4f27-a26b-9b849539e0b0",
   "metadata": {},
   "outputs": [],
   "source": []
  },
  {
   "cell_type": "code",
   "execution_count": null,
   "id": "23493b82-dca4-4ec2-975a-397cb570727f",
   "metadata": {},
   "outputs": [],
   "source": []
  }
 ],
 "metadata": {
  "kernelspec": {
   "display_name": "Python 3 (ipykernel)",
   "language": "python",
   "name": "python3"
  },
  "language_info": {
   "codemirror_mode": {
    "name": "ipython",
    "version": 3
   },
   "file_extension": ".py",
   "mimetype": "text/x-python",
   "name": "python",
   "nbconvert_exporter": "python",
   "pygments_lexer": "ipython3",
   "version": "3.10.8"
  }
 },
 "nbformat": 4,
 "nbformat_minor": 5
}
