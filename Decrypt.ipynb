{
 "cells": [
  {
   "cell_type": "code",
   "execution_count": 20,
   "id": "c987c0c1-16bc-4de4-83cb-e94e1d968f5a",
   "metadata": {},
   "outputs": [
    {
     "name": "stdout",
     "output_type": "stream",
     "text": [
      "acrostic\n"
     ]
    }
   ],
   "source": [
    "#Source: Velarde Lab # 7\n",
    "example = \"a crude rumor or secret tip is concealed\"\n",
    "def acrostic(sentence):\n",
    "    '''\n",
    "    {function acrostic() finds the hidden message, by taking the first letter of each word in a sentence}\n",
    "    \n",
    "    PARAMETERS:\n",
    "    {string} sentence = example string provided\n",
    "    \n",
    "    RETURN:\n",
    "    {string} hidden_message\n",
    "    '''\n",
    "    hidden_message = ''\n",
    "    #split the sentence by white space\n",
    "    wordList = sentence.split()\n",
    "    #iterates through the word list, and takes the first letter of each word at position 0, and adds it to the hidden message\n",
    "    for i in range(len(wordList)):\n",
    "        current_word = wordList[i]\n",
    "        hidden_message += current_word[0]\n",
    "    print (hidden_message)\n",
    "acrostic(example) #function call\n",
    "            \n",
    "        \n",
    "            \n",
    "            "
   ]
  },
  {
   "cell_type": "code",
   "execution_count": 19,
   "id": "5d18c4a9-df54-4688-ba10-55a3b8c03400",
   "metadata": {},
   "outputs": [
    {
     "name": "stdout",
     "output_type": "stream",
     "text": [
      "ACROSTIC\n"
     ]
    }
   ],
   "source": [
    "# Source: Velarde lab #7\n",
    "example = \"A Crude rumoR Or SecreT tIp is conCealed\"\n",
    "def acrosticCaps(sentence):\n",
    "    '''\n",
    "    {function acrosticCaps() finds the hidden message, by taking the capital letter in each word of the sentence}\n",
    "    \n",
    "    PARAMETERS:\n",
    "    {string} sentence = example string provided\n",
    "    \n",
    "    RETURN:\n",
    "    {string} hidden_message\n",
    "    '''\n",
    "    hidden_message = ''\n",
    "    # splits the sentence by white space\n",
    "    wordList = sentence.split()\n",
    "    #iterates through each word of the word list and takes the capital letter, and checks if its uppercase\n",
    "    # if it is upper, the letter is added to the hidden message.\n",
    "    for i in range(len(wordList)):\n",
    "        current_word = wordList[i]\n",
    "        for j in range(len(current_word)):\n",
    "            current_letter = current_word[j]\n",
    "            if (current_letter.isupper()):\n",
    "                hidden_message += current_letter         \n",
    "    print (hidden_message)\n",
    "acrosticCaps(example) #function called with argument example passed in."
   ]
  },
  {
   "cell_type": "code",
   "execution_count": null,
   "id": "940b2a42-340e-4b46-a2e5-e902e053277b",
   "metadata": {},
   "outputs": [],
   "source": []
  }
 ],
 "metadata": {
  "kernelspec": {
   "display_name": "Python 3 (ipykernel)",
   "language": "python",
   "name": "python3"
  },
  "language_info": {
   "codemirror_mode": {
    "name": "ipython",
    "version": 3
   },
   "file_extension": ".py",
   "mimetype": "text/x-python",
   "name": "python",
   "nbconvert_exporter": "python",
   "pygments_lexer": "ipython3",
   "version": "3.10.8"
  }
 },
 "nbformat": 4,
 "nbformat_minor": 5
}
