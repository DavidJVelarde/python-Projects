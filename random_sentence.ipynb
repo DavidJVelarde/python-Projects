{
 "cells": [
  {
   "cell_type": "code",
   "execution_count": 2,
   "id": "16174a49-19c3-4903-9cc8-0c51c2fc8c0b",
   "metadata": {},
   "outputs": [],
   "source": [
    "#SOURCES:\n",
    "#Lecture 21 slides: 17, and 22 for random.choice()\n",
    "\n",
    "\n",
    "#all terminals use random.choice except Comp(), only has 1 choice.\n",
    "import random\n",
    "def Det():\n",
    "    '''\n",
    "    $Det()$ returns random article\n",
    "    \n",
    "    PARAMETERS:\n",
    "    @param None\n",
    "    \n",
    "    RETURN:\n",
    "    @return {string} (article) - returns randomly chosen article.\n",
    "    '''\n",
    "    det_list = ['the ' , 'a ' , 'some ' , 'any ' , 'every ']\n",
    "    article = random.choice(det_list)\n",
    "    return article\n",
    "def Adj():\n",
    "    '''\n",
    "    $Adj()$ returns random article \n",
    "    \n",
    "    PARAMETERS:\n",
    "    @param None\n",
    "    \n",
    "    RETURN:\n",
    "    @return {string} (adj) - returns randomly chosen adjective.\n",
    "    '''\n",
    "    adj_list = ['green ', 'young ', 'tired ', 'confused ']\n",
    "    adj = random.choice(adj_list)\n",
    "    return adj\n",
    "def N():\n",
    "    '''\n",
    "    $N()$ returns random noun\n",
    "    \n",
    "    PARAMETERS:\n",
    "    @param None\n",
    "    \n",
    "    RETURN:\n",
    "    @return {string} (n) - returns randomly chosen noun.\n",
    "    '''\n",
    "    n_list = ['dog ', 'cat ']\n",
    "    n = random.choice(n_list)\n",
    "    return n\n",
    "def PropN():\n",
    "    '''\n",
    "    $PropN()$ returns random proper noun\n",
    "    \n",
    "    PARAMETERS:\n",
    "    @param None\n",
    "    \n",
    "    RETURN:\n",
    "    @return {string} (propern) - returns randomly chosen proper noun.\n",
    "    '''\n",
    "    propern_list = ['John ', 'Mary ']\n",
    "    propern = random.choice(propern_list)\n",
    "    return propern\n",
    "def Vi():\n",
    "    '''\n",
    "    $Vi()$ returns random verb\n",
    "    \n",
    "    PARAMETERS:\n",
    "    @param None\n",
    "    \n",
    "    RETURN:\n",
    "    @return {string} (vi) - returns randomly chosen verb.\n",
    "    '''\n",
    "    vi_list = ['sleeps ', 'walks ']\n",
    "    vi = random.choice(vi_list)\n",
    "    return vi\n",
    "def Vt():\n",
    "    '''\n",
    "    $Vt()$ returns random verb\n",
    "    \n",
    "    PARAMETERS:\n",
    "    @param None\n",
    "    \n",
    "    RETURN:\n",
    "    @return {string} (vt) - returns randomly chosen verb.\n",
    "    '''\n",
    "    vt_list = ['loves ', 'hates ']\n",
    "    vt = random.choice(vt_list)\n",
    "    return vt\n",
    "def Vc():\n",
    "    '''\n",
    "    $Vi()$ returns random verb\n",
    "    \n",
    "    PARAMETERS:\n",
    "    @param None\n",
    "    \n",
    "    RETURN:\n",
    "    @return {string} (vc) - returns randomly chosen verb.\n",
    "    '''\n",
    "    vc_list = ['says ', 'thinks ', 'believes ']\n",
    "    vc = random.choice(vc_list)\n",
    "    return vc\n",
    "def Comp():\n",
    "    '''\n",
    "    $Comp()$ returns string 'that'\n",
    "    \n",
    "    PARAMETERS:\n",
    "    @param None\n",
    "    \n",
    "    RETURN:\n",
    "    @return {string} ('that) - returns specific string\n",
    "    '''\n",
    "    return 'that '\n",
    "\n",
    "\n",
    "def NP():\n",
    "    '''\n",
    "    $NP()$ returns noun phrase\n",
    "    \n",
    "    PARAMETERS:\n",
    "    @param None\n",
    "    \n",
    "    RETURN:\n",
    "    @return {string} (nounphrase) - returns random assortment of nounphrases using random.choice, by calling the function, and adding it to empty string.\n",
    "    '''\n",
    "#NP → Det Adj N | Det N | Adj PropN | PropN\n",
    "    #output nounphrase string by random choice and iteration.\n",
    "    choice1 = []\n",
    "    choice1 = random.choice([[Det(), Adj(), N()],[Det(), N()],[Adj(), PropN()],[PropN()]])    \n",
    "    nounphrase = ''\n",
    "    for i in range(len(choice1)):\n",
    "        nounphrase += choice1[i]\n",
    "    return nounphrase\n",
    "\n",
    "\n",
    "def VP():\n",
    "    '''\n",
    "    $VP()$ returns verb phrase\n",
    "    \n",
    "    PARAMETERS:\n",
    "    @param None\n",
    "    \n",
    "    RETURN:\n",
    "    @return {function} (Vi() | Vt() + NP() | VC() + Comp() + S()) - returns a combination of functions, depending on which random choice is selected.\n",
    "    '''\n",
    "#VP → Vi | Vt NP | Vc Comp S\n",
    "    #chooses random assortment of verbphrase.\n",
    "    choice = random.choice([1, 2, 3])\n",
    "    if choice == 1:\n",
    "        return Vi()\n",
    "    elif choice == 2:\n",
    "        return Vt() + NP()\n",
    "    elif choice == 3:\n",
    "        return Vc() + Comp() + S()\n",
    "\n",
    "def S():\n",
    "    '''\n",
    "    $S()$ returns sentence, but does so by returning NP() function and VP function.\n",
    "    \n",
    "    PARAMETERS:\n",
    "    @param None\n",
    "    \n",
    "    RETURN:\n",
    "    @return {function} (NP() + VP()) - returns both NP() and VP functions\n",
    "    '''\n",
    "    return NP() + VP()\n"
   ]
  },
  {
   "cell_type": "code",
   "execution_count": 3,
   "id": "c724e4df-d14b-43ca-bea5-4dc81df5434d",
   "metadata": {},
   "outputs": [
    {
     "data": {
      "text/plain": [
       "'some dog walks '"
      ]
     },
     "execution_count": 3,
     "metadata": {},
     "output_type": "execute_result"
    }
   ],
   "source": [
    "S()"
   ]
  },
  {
   "cell_type": "code",
   "execution_count": 4,
   "id": "ff347bf6-4c59-4e66-aeb6-830cbe56157d",
   "metadata": {},
   "outputs": [
    {
     "data": {
      "text/plain": [
       "'every cat says that the cat loves every dog '"
      ]
     },
     "execution_count": 4,
     "metadata": {},
     "output_type": "execute_result"
    }
   ],
   "source": [
    "S()"
   ]
  },
  {
   "cell_type": "code",
   "execution_count": 5,
   "id": "56b63566-143d-419f-8894-8344e3ab48dd",
   "metadata": {},
   "outputs": [
    {
     "data": {
      "text/plain": [
       "'John hates the cat '"
      ]
     },
     "execution_count": 5,
     "metadata": {},
     "output_type": "execute_result"
    }
   ],
   "source": [
    "S()"
   ]
  },
  {
   "cell_type": "code",
   "execution_count": 6,
   "id": "c1f846d2-2226-49e2-81c7-ebcdcf50a5ca",
   "metadata": {},
   "outputs": [
    {
     "data": {
      "text/plain": [
       "'any tired dog sleeps '"
      ]
     },
     "execution_count": 6,
     "metadata": {},
     "output_type": "execute_result"
    }
   ],
   "source": [
    "S()"
   ]
  },
  {
   "cell_type": "code",
   "execution_count": 7,
   "id": "07865c17-1684-4c10-95a4-dece83b267cf",
   "metadata": {},
   "outputs": [
    {
     "data": {
      "text/plain": [
       "'young John loves green John '"
      ]
     },
     "execution_count": 7,
     "metadata": {},
     "output_type": "execute_result"
    }
   ],
   "source": [
    "S()"
   ]
  },
  {
   "cell_type": "code",
   "execution_count": 8,
   "id": "e34b0266-5549-4379-b65b-f0dc41271eeb",
   "metadata": {},
   "outputs": [
    {
     "data": {
      "text/plain": [
       "'young John sleeps '"
      ]
     },
     "execution_count": 8,
     "metadata": {},
     "output_type": "execute_result"
    }
   ],
   "source": [
    "S()"
   ]
  },
  {
   "cell_type": "code",
   "execution_count": 9,
   "id": "e39d1465-5760-4481-bdce-e0e55f57bc82",
   "metadata": {},
   "outputs": [
    {
     "data": {
      "text/plain": [
       "'young John thinks that the confused dog thinks that confused Mary sleeps '"
      ]
     },
     "execution_count": 9,
     "metadata": {},
     "output_type": "execute_result"
    }
   ],
   "source": [
    "S()"
   ]
  },
  {
   "cell_type": "code",
   "execution_count": null,
   "id": "db07a3a1-3f8f-4e28-92c7-f17e474d9b44",
   "metadata": {},
   "outputs": [],
   "source": []
  }
 ],
 "metadata": {
  "kernelspec": {
   "display_name": "Python 3 (ipykernel)",
   "language": "python",
   "name": "python3"
  },
  "language_info": {
   "codemirror_mode": {
    "name": "ipython",
    "version": 3
   },
   "file_extension": ".py",
   "mimetype": "text/x-python",
   "name": "python",
   "nbconvert_exporter": "python",
   "pygments_lexer": "ipython3",
   "version": "3.10.8"
  }
 },
 "nbformat": 4,
 "nbformat_minor": 5
}
